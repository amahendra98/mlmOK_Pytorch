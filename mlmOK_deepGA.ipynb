{
 "cells": [
  {
   "cell_type": "code",
   "execution_count": 1,
   "outputs": [],
   "source": [
    "import gym\n",
    "import numpy as np\n",
    "import torch\n",
    "import matplotlib.pyplot as plt\n",
    "import time"
   ],
   "metadata": {
    "collapsed": false,
    "pycharm": {
     "name": "#%%\n"
    }
   }
  },
  {
   "cell_type": "code",
   "execution_count": 2,
   "outputs": [],
   "source": [
    "\n",
    "from gym.wrappers import Monitor"
   ],
   "metadata": {
    "collapsed": false,
    "pycharm": {
     "name": "#%%\n"
    }
   }
  },
  {
   "cell_type": "code",
   "execution_count": 3,
   "outputs": [],
   "source": [
    "import torch\n",
    "import torch.nn as nn\n",
    "import torch.nn.functional as F\n",
    "import torch.optim as optim\n",
    "from torch import pow, add, mul, div, sqrt"
   ],
   "metadata": {
    "collapsed": false,
    "pycharm": {
     "name": "#%%\n"
    }
   }
  },
  {
   "cell_type": "code",
   "execution_count": 4,
   "outputs": [],
   "source": [
    "import os\n",
    "import math\n",
    "import copy\n",
    "import numpy as np\n",
    "import datareader\n",
    "from FastDataLoader import FastTensorDataLoader\n",
    "from sklearn.model_selection import train_test_split"
   ],
   "metadata": {
    "collapsed": false,
    "pycharm": {
     "name": "#%%\n"
    }
   }
  },
  {
   "cell_type": "code",
   "execution_count": 5,
   "outputs": [],
   "source": [
    "def read_data( x_range, y_range, geoboundary,  batch_size=128,\n",
    "                 data_dir=os.path.abspath(''), rand_seed=1234, normalize_input = True, test_ratio = 0.999):\n",
    "    \"\"\"\n",
    "      :param input_size: input size of the arrays\n",
    "      :param output_size: output size of the arrays\n",
    "      :param x_range: columns of input data in the txt file\n",
    "      :param y_range: columns of output data in the txt file\n",
    "      :param cross_val: number of cross validation folds\n",
    "      :param val_fold: which fold to be used for validation\n",
    "      :param batch_size: size of the batch read every time\n",
    "      :param shuffle_size: size of the batch when shuffle the dataset\n",
    "      :param data_dir: parent directory of where the data is stored, by default it's the current directory\n",
    "      :param rand_seed: random seed\n",
    "      :param test_ratio: if this is not 0, then split test data from training data at this ratio\n",
    "                         if this is 0, use the dataIn/eval files to make the test set\n",
    "      \"\"\"\n",
    "\n",
    "    # Import data files\n",
    "    print('Importing data files...')\n",
    "\n",
    "    ftrTrain, lblTrain = datareader.importData(os.path.join(data_dir, 'dataIn'), x_range, y_range)\n",
    "    if (test_ratio > 0):\n",
    "        print(\"Splitting data into training and test sets with a ratio of:\", str(test_ratio))\n",
    "        ftrTrain, ftrTest, lblTrain, lblTest = train_test_split(ftrTrain, lblTrain,\n",
    "                                                                test_size=test_ratio, random_state=rand_seed)\n",
    "        print('Total number of training samples is {}'.format(len(ftrTrain)))\n",
    "        print('Total number of test samples is {}'.format(len(ftrTest)))\n",
    "        print('Length of an output spectrum is {}'.format(len(lblTest[0])))\n",
    "    else:\n",
    "        print(\"Using separate file from dataIn/Eval as test set\")\n",
    "        ftrTest, lblTest = datareader.importData(os.path.join(data_dir, 'dataIn', 'eval'), x_range, y_range)\n",
    "\n",
    "    # print('Total number of training samples is {}'.format(len(ftrTrain)))\n",
    "    # print('Total number of test samples is {}'.format(len(ftrTest)))\n",
    "    # print('Length of an output spectrum is {}'.format(len(lblTest[0])))\n",
    "    # print('downsampling output curves')\n",
    "    # resample the output curves so that there are not so many output points\n",
    "    if len(lblTrain[0]) > 2000:                                 # For Omar data set\n",
    "        lblTrain = lblTrain[::, len(lblTest[0])-1800::6]\n",
    "        lblTest = lblTest[::, len(lblTest[0])-1800::6]\n",
    "\n",
    "    # print('length of downsampled train spectra is {} for first, {} for final, '.format(len(lblTrain[0]),\n",
    "    #                                                                                    len(lblTrain[-1])),\n",
    "    #       'set final layer size to be compatible with this number')\n",
    "\n",
    "    print('Generating torch datasets')\n",
    "    assert np.shape(ftrTrain)[0] == np.shape(lblTrain)[0]\n",
    "    assert np.shape(ftrTest)[0] == np.shape(lblTest)[0]\n",
    "\n",
    "    # Normalize the data if instructed using boundary\n",
    "    if normalize_input:\n",
    "        ftrTrain[:,0:4] = (ftrTrain[:,0:4] - (geoboundary[0] + geoboundary[1]) / 2)/(geoboundary[1] - geoboundary[0]) * 2\n",
    "        ftrTest[:,0:4] = (ftrTest[:,0:4] - (geoboundary[0] + geoboundary[1]) / 2)/(geoboundary[1] - geoboundary[0]) * 2\n",
    "        ftrTrain[:,4:] = (ftrTrain[:,4:] - (geoboundary[2] + geoboundary[3]) / 2)/(geoboundary[3] - geoboundary[2]) * 2\n",
    "        ftrTest[:,4:] = (ftrTest[:,4:] - (geoboundary[2] + geoboundary[3]) / 2)/(geoboundary[3] - geoboundary[2]) * 2\n",
    "\n",
    "    # train_data = datareader.MetaMaterialDataSet(ftrTrain, lblTrain, bool_train= True)\n",
    "    # test_data = datareader.MetaMaterialDataSet(ftrTest, lblTest, bool_train= False)\n",
    "    # train_loader = torch.utils.data.DataLoader(train_data, batch_size=batch_size)\n",
    "    # test_loader = torch.utils.data.DataLoader(test_data, batch_size=batch_size)\n",
    "\n",
    "    return ftrTest, lblTest\n"
   ],
   "metadata": {
    "collapsed": false,
    "pycharm": {
     "name": "#%%\n"
    }
   }
  },
  {
   "cell_type": "code",
   "execution_count": 6,
   "outputs": [
    {
     "name": "stdout",
     "output_type": "stream",
     "text": [
      "Importing data files...\n",
      "['ToyModelSim_e2_with_params_16.csv', 'ToyModelSim_e2_with_params_3.csv', 'ToyModelSim_e2_with_params_10.csv', 'ToyModelSim_e2_with_params_12.csv', 'ToyModelSim_e2_with_params_15.csv', 'ToyModelSim_e2_with_params_11.csv', 'ToyModelSim_e2_with_params_4.csv', 'ToyModelSim_e2_with_params_23.csv', 'ToyModelSim_e2_with_params_7.csv', 'ToyModelSim_e2_with_params_25.csv', 'ToyModelSim_e2_with_params_9.csv', 'ToyModelSim_e2_with_params_8.csv', 'ToyModelSim_e2_with_params_6.csv', 'ToyModelSim_e2_with_params_13.csv', 'ToyModelSim_e2_with_params_2.csv', 'ToyModelSim_e2_with_params_24.csv', 'ToyModelSim_e2_with_params_22.csv', 'ToyModelSim_e2_with_params_5.csv', 'ToyModelSim_e2_with_params_1.csv', 'ToyModelSim_e2_with_params_18.csv', 'ToyModelSim_e2_with_params_17.csv', 'ToyModelSim_e2_with_params_19.csv', 'ToyModelSim_e2_with_params_21.csv', 'ToyModelSim_e2_with_params_20.csv', 'ToyModelSim_e2_with_params_14.csv']\n",
      "Splitting data into training and test sets with a ratio of: 0.999\n",
      "Total number of training samples is 50\n",
      "Total number of test samples is 49950\n",
      "Length of an output spectrum is 300\n",
      "Generating torch datasets\n"
     ]
    }
   ],
   "source": [
    "import flagreader\n",
    "flags = flagreader.read_flag()\n",
    "batch_size = 4096\n",
    "ftrTest, lblTest = read_data(x_range=flags.x_range,\n",
    "                                                     y_range=[i for i in range(20 , 320 )],\n",
    "                                                     geoboundary=flags.geoboundary,\n",
    "                                                     batch_size=batch_size,\n",
    "                                                     normalize_input=flags.normalize_input,\n",
    "                                                     data_dir=flags.data_dir,\n",
    "                                                     test_ratio=0.999)"
   ],
   "metadata": {
    "collapsed": false,
    "pycharm": {
     "name": "#%%\n"
    }
   }
  },
  {
   "cell_type": "code",
   "execution_count": 7,
   "outputs": [],
   "source": [
    "def reload_data(ftrTest,lblTest):\n",
    "    # train_loader = FastTensorDataLoader(torch.from_numpy(ftrTrain),\n",
    "    #                                     torch.from_numpy(lblTrain), batch_size=batch_size, shuffle=True)\n",
    "    test_loader = FastTensorDataLoader(torch.from_numpy(ftrTest),\n",
    "                                       torch.from_numpy(lblTest), batch_size=batch_size, shuffle=True)\n",
    "\n",
    "    return test_loader"
   ],
   "metadata": {
    "collapsed": false,
    "pycharm": {
     "name": "#%%\n"
    }
   }
  },
  {
   "cell_type": "code",
   "execution_count": 8,
   "outputs": [],
   "source": [
    "class LorentzNN(nn.Module):\n",
    "    def __init__(self, flags):\n",
    "        super(LorentzNN, self).__init__()\n",
    "        self.flags = flags\n",
    "\n",
    "        w_numpy = np.arange(flags.freq_low, flags.freq_high,\n",
    "                            (flags.freq_high - flags.freq_low) / self.flags.num_spec_points)\n",
    "\n",
    "        cuda = True if torch.cuda.is_available() else False\n",
    "        if cuda:\n",
    "            self.w = torch.tensor(w_numpy).cuda()\n",
    "        else:\n",
    "            self.w = torch.tensor(w_numpy)\n",
    "\n",
    "        self.linears = nn.ModuleList([])\n",
    "        for ind, fc_num in enumerate(flags.linear[0:-1]):\n",
    "            self.linears.append(nn.Linear(fc_num, flags.linear[ind + 1], bias=True))\n",
    "\n",
    "        layer_size = flags.linear[-1]\n",
    "        self.lin_w0 = nn.Linear(layer_size, self.flags.num_lorentz_osc, bias=False)\n",
    "        self.lin_wp = nn.Linear(layer_size, self.flags.num_lorentz_osc, bias=False)\n",
    "        self.lin_g = nn.Linear(layer_size, self.flags.num_lorentz_osc, bias=False)\n",
    "\n",
    "    def forward(self, G):\n",
    "        out = G\n",
    "        for ind, fc in enumerate(self.linears):\n",
    "            if ind <= len(self.linears):\n",
    "                out = F.relu(fc(out))\n",
    "\n",
    "        w0 = F.relu(self.lin_w0(out))\n",
    "        wp = F.relu(self.lin_wp(out))\n",
    "        g = F.relu(self.lin_g(out))\n",
    "\n",
    "        w0 = w0.unsqueeze(2) * 1\n",
    "        wp = wp.unsqueeze(2) * 1\n",
    "        g = g.unsqueeze(2) * 0.1\n",
    "\n",
    "        w0 = w0.expand(out.size(0), self.flags.num_lorentz_osc, self.flags.num_spec_points)\n",
    "        wp = wp.expand_as(w0)\n",
    "        g = g.expand_as(w0)\n",
    "        w_expand = self.w.expand_as(g)\n",
    "\n",
    "        e2 = div(mul(pow(wp, 2), mul(w_expand, g)),\n",
    "                 add(pow(add(pow(w0, 2), -pow(w_expand, 2)), 2), mul(pow(w_expand, 2), pow(g, 2))))\n",
    "\n",
    "        e2 = torch.sum(e2, 1)\n",
    "        return e2.float()"
   ],
   "metadata": {
    "collapsed": false,
    "pycharm": {
     "name": "#%%\n"
    }
   }
  },
  {
   "cell_type": "code",
   "execution_count": 9,
   "outputs": [],
   "source": [
    "class CartPoleAI(nn.Module):\n",
    "        def __init__(self):\n",
    "            super().__init__()\n",
    "            self.fc = nn.Sequential(\n",
    "                        nn.Linear(4,128, bias=True),\n",
    "                        nn.ReLU(),\n",
    "                        nn.Linear(128,2, bias=True),\n",
    "                        nn.Softmax(dim=1)\n",
    "                        )\n",
    "\n",
    "\n",
    "        def forward(self, inputs):\n",
    "            x = self.fc(inputs)\n",
    "            return x\n"
   ],
   "metadata": {
    "collapsed": false,
    "pycharm": {
     "name": "#%%\n"
    }
   }
  },
  {
   "cell_type": "code",
   "execution_count": 10,
   "outputs": [],
   "source": [
    "def init_weights(m):\n",
    "\n",
    "        # nn.Conv2d weights are of shape [16, 1, 3, 3] i.e. # number of filters, 1, stride, stride\n",
    "        # nn.Conv2d bias is of shape [16] i.e. # number of filters\n",
    "\n",
    "        # nn.Linear weights are of shape [32, 24336] i.e. # number of input features, number of output features\n",
    "        # nn.Linear bias is of shape [32] i.e. # number of output features\n",
    "\n",
    "        if ((type(m) == nn.Linear) | (type(m) == nn.Conv2d)):\n",
    "            torch.nn.init.xavier_uniform(m.weight)\n",
    "            if m.bias:\n",
    "                m.bias.data.fill_(0.00)"
   ],
   "metadata": {
    "collapsed": false,
    "pycharm": {
     "name": "#%%\n"
    }
   }
  },
  {
   "cell_type": "code",
   "execution_count": 11,
   "outputs": [],
   "source": [
    "def return_random_agents(num_agents):\n",
    "\n",
    "    agents = []\n",
    "    for _ in range(num_agents):\n",
    "\n",
    "        agent = LorentzNN(flags)\n",
    "\n",
    "        for param in agent.parameters():\n",
    "            param.requires_grad = False\n",
    "\n",
    "        init_weights(agent)\n",
    "        agents.append(agent)\n",
    "\n",
    "\n",
    "    return agents"
   ],
   "metadata": {
    "collapsed": false,
    "pycharm": {
     "name": "#%%\n"
    }
   }
  },
  {
   "cell_type": "code",
   "execution_count": 12,
   "outputs": [],
   "source": [
    "def run_agents(agents):\n",
    "\n",
    "    reward_agents = []\n",
    "\n",
    "    for agent_num, agent in enumerate(agents):\n",
    "        cuda = True if torch.cuda.is_available() else False\n",
    "        if cuda:\n",
    "            agent.cuda()\n",
    "        agent.eval()\n",
    "\n",
    "        eval_loss = []\n",
    "        with torch.no_grad():\n",
    "            for ind, (geometry, spectra) in enumerate(test_loader):\n",
    "                if cuda:\n",
    "                    geometry = geometry.cuda()\n",
    "                    spectra = spectra.cuda()\n",
    "                if (batch_size*(ind+1) < 20000):\n",
    "                    logit = agent(geometry)\n",
    "                    loss = nn.functional.mse_loss(logit, spectra)\n",
    "                    eval_loss.append(np.copy(loss.cpu().data.numpy()))\n",
    "                else:\n",
    "                    break\n",
    "        eval_avg_loss = np.mean(eval_loss)\n",
    "        # reward = 1/eval_avg_loss\n",
    "        # reward = math.exp(reward)-1\n",
    "        reward = -eval_avg_loss\n",
    "        if math.isnan(reward):\n",
    "            reward = 0\n",
    "        reward_agents.append(reward)\n",
    "        # print(agent_num)\n",
    "\n",
    "    return reward_agents"
   ],
   "metadata": {
    "collapsed": false,
    "pycharm": {
     "name": "#%%\n"
    }
   }
  },
  {
   "cell_type": "code",
   "execution_count": 13,
   "outputs": [],
   "source": [
    "def return_average_score(agent, runs):\n",
    "    score = 0.\n",
    "    for i in range(runs):\n",
    "        score += run_agents([agent])[0]\n",
    "    return score/runs"
   ],
   "metadata": {
    "collapsed": false,
    "pycharm": {
     "name": "#%%\n"
    }
   }
  },
  {
   "cell_type": "code",
   "execution_count": 14,
   "outputs": [],
   "source": [
    "def run_agents_n_times(agents, runs):\n",
    "    avg_score = []\n",
    "    for agent in agents:\n",
    "        avg_score.append(return_average_score(agent,runs))\n",
    "    return avg_score"
   ],
   "metadata": {
    "collapsed": false,
    "pycharm": {
     "name": "#%%\n"
    }
   }
  },
  {
   "cell_type": "code",
   "execution_count": 36,
   "outputs": [],
   "source": [
    "def mutate(agent):\n",
    "\n",
    "    child_agent = copy.deepcopy(agent)\n",
    "\n",
    "    mutation_power = 0.05 #hyper-parameter, set from https://arxiv.org/pdf/1712.06567.pdf\n",
    "    sparsity_index = 0.2\n",
    "    # for param in child_agent.parameters():\n",
    "    for layer_name, child in child_agent.named_children():\n",
    "        for param in child.parameters():\n",
    "            if(layer_name == 'lin_w0' or layer_name == 'lin_wp'\n",
    "                    or layer_name == 'lin_g'):\n",
    "                mutation_tensor = torch.randn_like(param)\n",
    "                mut_sorted,ind = torch.sort(mutation_tensor.view(-1,1))\n",
    "                limit = int((len(mut_sorted)-1)*(1-sparsity_index))\n",
    "                mutation_tensor[torch.abs(mutation_tensor) < mut_sorted[limit]] = 0\n",
    "                param += torch.randn_like(param) * mutation_power\n",
    "            else:\n",
    "                param += torch.randn_like(param) * mutation_power\n",
    "\n",
    "                # print(param)\n",
    "\n",
    "        # if(len(param.shape)==4): #weights of Conv2D\n",
    "        #     # a=1\n",
    "        #     for i0 in range(param.shape[0]):\n",
    "        #         for i1 in range(param.shape[1]):\n",
    "        #             for i2 in range(param.shape[2]):\n",
    "        #                 for i3 in range(param.shape[3]):\n",
    "        #\n",
    "        #                     param[i0][i1][i2][i3]+= mutation_power * np.random.randn()\n",
    "        #\n",
    "        #\n",
    "        #\n",
    "        # elif(len(param.shape)==2): #weights of linear layer\n",
    "        #     # param += np.random.rand(param.shape[0],param.shape[1]) * mutation_power\n",
    "        #\n",
    "        #     for i0 in range(param.shape[0]):\n",
    "        #         for i1 in range(param.shape[1]):\n",
    "        #\n",
    "        #             param[i0][i1]+= mutation_power * np.random.randn()\n",
    "        #\n",
    "        #\n",
    "        # elif(len(param.shape)==1): #biases of linear layer or conv layer\n",
    "        #     for i0 in range(param.shape[0]):\n",
    "        #\n",
    "        #         param[i0]+=mutation_power * np.random.randn()\n",
    "\n",
    "    return child_agent"
   ],
   "metadata": {
    "collapsed": false,
    "pycharm": {
     "name": "#%%\n"
    }
   }
  },
  {
   "cell_type": "code",
   "execution_count": 16,
   "outputs": [],
   "source": [
    "def return_children(agents, sorted_parent_indexes, elite_index):\n",
    "\n",
    "    children_agents = []\n",
    "\n",
    "    #first take selected parents from sorted_parent_indexes and generate N-1 children\n",
    "    for i in range(len(agents)-1):\n",
    "\n",
    "        selected_agent_index = sorted_parent_indexes[np.random.randint(len(sorted_parent_indexes))]\n",
    "        children_agents.append(mutate(agents[selected_agent_index]))\n",
    "\n",
    "    #now add one elite\n",
    "    elite_child = add_elite(agents, sorted_parent_indexes, elite_index)\n",
    "    children_agents.append(elite_child)\n",
    "    elite_index=len(children_agents)-1 #it is the last one\n",
    "\n",
    "    return children_agents, elite_index\n"
   ],
   "metadata": {
    "collapsed": false,
    "pycharm": {
     "name": "#%%\n"
    }
   }
  },
  {
   "cell_type": "code",
   "execution_count": 17,
   "outputs": [],
   "source": [
    "def add_elite(agents, sorted_parent_indexes, elite_index=None, only_consider_top_n=10):\n",
    "\n",
    "    candidate_elite_index = sorted_parent_indexes[:only_consider_top_n]\n",
    "\n",
    "    if(elite_index is not None):\n",
    "        candidate_elite_index = np.append(candidate_elite_index,[elite_index])\n",
    "\n",
    "    top_score = None\n",
    "    top_elite_index = None\n",
    "\n",
    "    for i in candidate_elite_index:\n",
    "        score = return_average_score(agents[i],runs=1)\n",
    "        print(\"Score for elite i \", i, \" is \", score)\n",
    "\n",
    "        if(top_score is None):\n",
    "            top_score = score\n",
    "            top_elite_index = i\n",
    "        elif(score > top_score):\n",
    "            top_score = score\n",
    "            top_elite_index = i\n",
    "\n",
    "    print(\"Elite selected with index \",top_elite_index, \" and score\", top_score)\n",
    "\n",
    "    child_agent = copy.deepcopy(agents[top_elite_index])\n",
    "    return child_agent\n"
   ],
   "metadata": {
    "collapsed": false,
    "pycharm": {
     "name": "#%%\n"
    }
   }
  },
  {
   "cell_type": "code",
   "execution_count": 18,
   "outputs": [],
   "source": [
    "def softmax(x):\n",
    "    \"\"\"Compute softmax values for each sets of scores in x.\"\"\"\n",
    "    return np.exp(x) / np.sum(np.exp(x), axis=0)\n",
    "\n"
   ],
   "metadata": {
    "collapsed": false,
    "pycharm": {
     "name": "#%%\n"
    }
   }
  },
  {
   "cell_type": "code",
   "execution_count": 35,
   "outputs": [
    {
     "name": "stdout",
     "output_type": "stream",
     "text": [
      "\n",
      "\n",
      "Generation  0  | Mean rewards:  -56.99361  | Mean of top 5:  -56.60213\n",
      "Top  20  scores [ 5  8 14  0 10 17 13 15 19 12 16 18  9  2  6  4  7  3  1 11]\n",
      "Rewards for top:  [-56.26174, -56.397713, -56.47724, -56.873466, -57.000496, -57.024746, -57.03459, -57.035843, -57.040443, -57.04506, -57.04964, -57.091694, -57.095795, -57.129993, -57.15905, -57.19457, -57.20104, -57.209908, -57.211674, -57.33763]\n",
      "Score for elite i  5  is  -56.68730163574219\n",
      "Score for elite i  8  is  -56.7570686340332\n",
      "Score for elite i  14  is  -57.2231559753418\n",
      "Score for elite i  0  is  -56.66027069091797\n",
      "Score for elite i  10  is  -57.31043243408203\n",
      "Score for elite i  17  is  -56.100677490234375\n",
      "Score for elite i  13  is  -57.314212799072266\n",
      "Score for elite i  15  is  -56.82222366333008\n",
      "Score for elite i  19  is  -56.80717849731445\n",
      "Score for elite i  12  is  -57.119140625\n",
      "Elite selected with index  17  and score -56.100677490234375\n",
      "\n",
      "\n",
      "Generation  1  | Mean rewards:  -154229.34  | Mean of top 5:  -3284.5293\n",
      "Top  20  scores [19  4 13 10 17  1  0  5  9 11 12  8 15  3  7  2 18 16  6 14]\n",
      "Rewards for top:  [-57.283268, -137.88817, -2788.7751, -5678.2266, -7760.4736, -10355.637, -37570.586, -54094.35, -72362.39, -74799.42, -75738.055, -126410.93, -150639.61, -166867.56, -212408.72, -233998.19, -273290.72, -431624.66, -453216.94, -694786.4]\n",
      "Score for elite i  19  is  -57.17180252075195\n",
      "Score for elite i  4  is  -138.95460510253906\n",
      "Score for elite i  13  is  -2554.455810546875\n",
      "Score for elite i  10  is  -6158.91650390625\n",
      "Score for elite i  17  is  -7727.3583984375\n",
      "Score for elite i  1  is  -10249.59375\n",
      "Score for elite i  0  is  -39162.4921875\n",
      "Score for elite i  5  is  -35497.828125\n",
      "Score for elite i  9  is  -57071.5625\n",
      "Score for elite i  11  is  -76985.8828125\n",
      "Score for elite i  19  is  -57.59970474243164\n",
      "Elite selected with index  19  and score -57.17180252075195\n",
      "\n",
      "\n",
      "Generation  2  | Mean rewards:  -3554860.0  | Mean of top 5:  -32018.412\n",
      "Top  20  scores [19  8 14  2 11 13  0 17  5 18 15  3  7  4 12 16  1  6 10  9]\n",
      "Rewards for top:  [-56.531998, -160.63495, -29979.115, -31106.2, -98789.58, -246932.44, -253291.08, -363088.88, -479416.16, -794342.6, -839800.94, -946648.06, -1276507.2, -1608672.5, -2715242.8, -6189486.5, -7479041.5, -9975633.0, -17172296.0, -20596706.0]\n",
      "Score for elite i  19  is  -57.06122970581055\n",
      "Score for elite i  8  is  -75.47583770751953\n",
      "Score for elite i  14  is  -28508.65234375\n",
      "Score for elite i  2  is  -40391.58984375\n",
      "Score for elite i  11  is  -76517.484375\n",
      "Score for elite i  13  is  -236806.890625\n",
      "Score for elite i  0  is  -255819.65625\n",
      "Score for elite i  17  is  -449277.03125\n",
      "Score for elite i  5  is  -473137.0625\n",
      "Score for elite i  18  is  -804627.8125\n",
      "Score for elite i  19  is  -56.7220573425293\n",
      "Elite selected with index  19  and score -56.7220573425293\n",
      "\n",
      "\n",
      "Generation  3  | Mean rewards:  -17056062.0  | Mean of top 5:  -744105.9\n",
      "Top  20  scores [19  4  9 18 16  1  0  5  7 17  3 11  8 12 10 14 15  2  6 13]\n",
      "Rewards for top:  [-57.17184, -35284.83, -421820.94, -1611659.9, -1651706.5, -4374468.0, -5138572.0, -5178108.0, -5650345.0, -6707564.0, -7171629.5, -8075825.5, -8222039.0, -9931759.0, -15283874.0, -18655124.0, -44026390.0, -47991584.0, -53495904.0, -97497544.0]\n",
      "Score for elite i  19  is  -57.70659255981445\n",
      "Score for elite i  4  is  -77460.1953125\n",
      "Score for elite i  9  is  -438283.0625\n",
      "Score for elite i  18  is  -1557520.125\n",
      "Score for elite i  16  is  -1634089.5\n",
      "Score for elite i  1  is  -4718569.0\n",
      "Score for elite i  0  is  -6515461.0\n",
      "Score for elite i  5  is  -5134490.5\n",
      "Score for elite i  7  is  -5396889.0\n",
      "Score for elite i  17  is  -5232611.0\n",
      "Score for elite i  19  is  -56.81672286987305\n",
      "Elite selected with index  19  and score -56.81672286987305\n",
      "\n",
      "\n",
      "Generation  4  | Mean rewards:  -217061120.0  | Mean of top 5:  -1644604.2\n",
      "Top  20  scores [19 14  0  3  2  6 13  4  5  8 11 17  1 16  9 18  7 10 12 15]\n",
      "Rewards for top:  [-56.779095, -75075.95, -249497.94, -2747624.0, -5150766.0, -5160014.5, -7172380.5, -17181876.0, -20964806.0, -26729478.0, -28286798.0, -46341788.0, -61132800.0, -67755180.0, -72469460.0, -75663650.0, -75888960.0, -110006720.0, -202708530.0, -3515536400.0]\n",
      "Score for elite i  19  is  -56.47747802734375\n",
      "Score for elite i  14  is  -65491.43359375\n",
      "Score for elite i  0  is  -266382.0625\n",
      "Score for elite i  3  is  -2952506.0\n",
      "Score for elite i  2  is  -5469455.5\n",
      "Score for elite i  6  is  -5550787.5\n",
      "Score for elite i  13  is  -8242577.5\n",
      "Score for elite i  4  is  -17490660.0\n",
      "Score for elite i  5  is  -17944070.0\n",
      "Score for elite i  8  is  -24357736.0\n",
      "Score for elite i  19  is  -57.555511474609375\n",
      "Elite selected with index  19  and score -56.47747802734375\n",
      "\n",
      "\n",
      "Generation  5  | Mean rewards:  -208993570.0  | Mean of top 5:  -1474303.0\n",
      "Top  20  scores [19 16 17  3 11  0  5  6 14 10  1 12  7  9  4 18  2  8 13 15]\n",
      "Rewards for top:  [-57.209305, -627.6832, -41188.89, -148674.28, -7180967.0, -9306044.0, -14135913.0, -42429680.0, -81915360.0, -92661030.0, -93645720.0, -110563736.0, -150916200.0, -228314820.0, -285905150.0, -340458000.0, -353064060.0, -391648450.0, -777332500.0, -1200203100.0]\n",
      "Score for elite i  19  is  -56.87784194946289\n",
      "Score for elite i  16  is  -671.2904663085938\n",
      "Score for elite i  17  is  -40376.578125\n",
      "Score for elite i  3  is  -160400.625\n",
      "Score for elite i  11  is  -11541871.0\n",
      "Score for elite i  0  is  -10017311.0\n",
      "Score for elite i  5  is  -14493830.0\n",
      "Score for elite i  6  is  -51010740.0\n",
      "Score for elite i  14  is  -86661904.0\n",
      "Score for elite i  10  is  -78457344.0\n",
      "Score for elite i  19  is  -57.23014450073242\n",
      "Elite selected with index  19  and score -56.87784194946289\n",
      "\n",
      "\n",
      "Generation  6  | Mean rewards:  -896877250.0  | Mean of top 5:  -841305.7\n",
      "Top  20  scores [19 16 14 10  3 12  8  0  5 13 18  2  7  4 17  1  9  6 15 11]\n",
      "Rewards for top:  [-57.08311, -29260.89, -157743.25, -1538010.2, -2481457.0, -4330017.5, -4607382.5, -220446110.0, -236119790.0, -265361020.0, -459343400.0, -591914050.0, -600308100.0, -641370430.0, -670045760.0, -750913860.0, -2051487400.0, -2899253500.0, -3182942200.0, -5354894000.0]\n",
      "Score for elite i  19  is  -56.58462905883789\n",
      "Score for elite i  16  is  -30935.830078125\n",
      "Score for elite i  14  is  -134892.90625\n",
      "Score for elite i  10  is  -1510537.625\n",
      "Score for elite i  3  is  -2479132.0\n",
      "Score for elite i  12  is  -4698792.5\n",
      "Score for elite i  8  is  -5469185.0\n",
      "Score for elite i  0  is  -182102304.0\n",
      "Score for elite i  5  is  -254543248.0\n",
      "Score for elite i  13  is  -238116848.0\n",
      "Score for elite i  19  is  -57.30308532714844\n",
      "Elite selected with index  19  and score -56.58462905883789\n",
      "\n",
      "\n",
      "Generation  7  | Mean rewards:  -821161100.0  | Mean of top 5:  -608292.06\n",
      "Top  20  scores [19 17 14  4 12 10  5  8  0 13  7  9  6 18 15 11  3 16  1  2]\n",
      "Rewards for top:  [-56.80881, -223845.56, -323531.78, -775557.7, -1718468.5, -5820169.5, -7218381.0, -9625291.0, -10024280.0, -12338749.0, -15952042.0, -19551880.0, -50147412.0, -50793732.0, -217961180.0, -366128060.0, -454872860.0, -1512477200.0, -3900095500.0, -9787173000.0]\n",
      "Score for elite i  19  is  -57.07692337036133\n",
      "Score for elite i  17  is  -246071.0625\n",
      "Score for elite i  14  is  -348044.0625\n",
      "Score for elite i  4  is  -780998.5\n",
      "Score for elite i  12  is  -1717661.25\n",
      "Score for elite i  10  is  -7022553.0\n",
      "Score for elite i  5  is  -6023105.0\n",
      "Score for elite i  8  is  -7794031.0\n",
      "Score for elite i  0  is  -9960549.0\n",
      "Score for elite i  13  is  -8755877.0\n",
      "Score for elite i  19  is  -56.657310485839844\n",
      "Elite selected with index  19  and score -56.657310485839844\n",
      "\n",
      "\n",
      "Generation  8  | Mean rewards:  -158221150.0  | Mean of top 5:  -2272487.5\n",
      "Top  20  scores [19  2  3  6  4 18 14  7 15  5  8  9 13 10  0 17  1 16 12 11]\n",
      "Rewards for top:  [-56.748413, -1351635.0, -2748868.2, -3085687.5, -4176190.8, -4422361.0, -4902285.0, -6966804.0, -11301954.0, -35103292.0, -35644388.0, -47051892.0, -47319200.0, -112553630.0, -120993304.0, -122726050.0, -135710780.0, -151596620.0, -320182270.0, -1996585900.0]\n",
      "Score for elite i  19  is  -57.02794647216797\n",
      "Score for elite i  2  is  -1268970.25\n",
      "Score for elite i  3  is  -3282304.0\n",
      "Score for elite i  6  is  -3072191.25\n",
      "Score for elite i  4  is  -10838339.0\n",
      "Score for elite i  18  is  -4392566.0\n",
      "Score for elite i  14  is  -5709014.5\n",
      "Score for elite i  7  is  -6449285.0\n",
      "Score for elite i  15  is  -13861179.0\n",
      "Score for elite i  5  is  -19586846.0\n",
      "Score for elite i  19  is  -57.565006256103516\n",
      "Elite selected with index  19  and score -57.02794647216797\n",
      "\n",
      "\n",
      "Generation  9  | Mean rewards:  -755121150.0  | Mean of top 5:  -7727333.0\n",
      "Top  20  scores [19 18  4  8  0 14 10 15 12  3  5  1  7 11 17  9 13  2  6 16]\n",
      "Rewards for top:  [-57.172848, -719745.94, -3554343.5, -12696916.0, -21665602.0, -22458398.0, -27258034.0, -36417332.0, -62681080.0, -103949390.0, -119552344.0, -130458900.0, -132033730.0, -161260590.0, -205236260.0, -288321950.0, -2001160400.0, -2189114600.0, -2215164200.0, -7368719400.0]\n",
      "Score for elite i  19  is  -56.89894104003906\n",
      "Score for elite i  18  is  -828523.9375\n",
      "Score for elite i  4  is  -3458106.5\n",
      "Score for elite i  8  is  -8417052.0\n",
      "Score for elite i  0  is  -19673564.0\n",
      "Score for elite i  14  is  -22181168.0\n",
      "Score for elite i  10  is  -29877984.0\n",
      "Score for elite i  15  is  -59506380.0\n",
      "Score for elite i  12  is  -53725740.0\n",
      "Score for elite i  3  is  -100391040.0\n",
      "Score for elite i  19  is  -56.76442337036133\n",
      "Elite selected with index  19  and score -56.76442337036133\n",
      "\n",
      "\n",
      "Generation  10  | Mean rewards:  -543657100.0  | Mean of top 5:  -19285134.0\n",
      "Top  20  scores [19 16  7 13 10  8 14 12  5 17  2  4  6  1  3 15 18 11  0  9]\n",
      "Rewards for top:  [-56.846092, -9980568.0, -15469985.0, -15860722.0, -55114340.0, -67826664.0, -68575520.0, -70775540.0, -160896780.0, -325975800.0, -456009100.0, -573148860.0, -586800450.0, -672653000.0, -816617150.0, -852506900.0, -971971460.0, -1177716600.0, -1265348900.0, -2709891600.0]\n",
      "Score for elite i  19  is  -56.544700622558594\n",
      "Score for elite i  16  is  -11988313.0\n",
      "Score for elite i  7  is  -18739570.0\n",
      "Score for elite i  13  is  -16082284.0\n",
      "Score for elite i  10  is  -18129660.0\n",
      "Score for elite i  8  is  -69216976.0\n",
      "Score for elite i  14  is  -67463024.0\n",
      "Score for elite i  12  is  -118609312.0\n",
      "Score for elite i  5  is  -185110224.0\n",
      "Score for elite i  17  is  -371811936.0\n",
      "Score for elite i  19  is  -57.17117691040039\n",
      "Elite selected with index  19  and score -56.544700622558594\n",
      "\n",
      "\n",
      "Generation  11  | Mean rewards:  -1152379000.0  | Mean of top 5:  -8893874.0\n",
      "Top  20  scores [19 11 18  9 13  1 10 14 15  8  2 12  6 17  0  3  5  4  7 16]\n",
      "Rewards for top:  [-56.77431, -64742.832, -14152068.0, -15022069.0, -15230430.0, -70590420.0, -124826080.0, -165391260.0, -166038060.0, -177286780.0, -178032220.0, -207411490.0, -310928800.0, -336312500.0, -702056600.0, -1115332000.0, -2259946500.0, -3067116800.0, -6940860400.0, -7180979000.0]\n",
      "Score for elite i  19  is  -56.29258346557617\n",
      "Score for elite i  11  is  -63631.890625\n",
      "Score for elite i  18  is  -11223716.0\n",
      "Score for elite i  9  is  -13654697.0\n",
      "Score for elite i  13  is  -17955244.0\n",
      "Score for elite i  1  is  -71662752.0\n",
      "Score for elite i  10  is  -102518184.0\n",
      "Score for elite i  14  is  -140931328.0\n",
      "Score for elite i  15  is  -193212704.0\n",
      "Score for elite i  8  is  -166670192.0\n",
      "Score for elite i  19  is  -56.8057746887207\n",
      "Elite selected with index  19  and score -56.29258346557617\n",
      "\n",
      "\n",
      "Generation  12  | Mean rewards:  -536521470.0  | Mean of top 5:  -1068128.5\n",
      "Top  20  scores [19 17 16 18  8 15  7 13  3 10  9 12 11  5  4  6  2  0  1 14]\n",
      "Rewards for top:  [-57.1248, -149347.19, -927445.3, -1610540.8, -2653252.0, -10314049.0, -12630857.0, -35397590.0, -67697330.0, -77818100.0, -131982860.0, -164172220.0, -185668060.0, -414279800.0, -416748220.0, -804714430.0, -1270062100.0, -1618760800.0, -2754296600.0, -2760544800.0]\n",
      "Score for elite i  19  is  -56.82698440551758\n",
      "Score for elite i  17  is  -139337.09375\n",
      "Score for elite i  16  is  -912917.75\n",
      "Score for elite i  18  is  -1848197.75\n",
      "Score for elite i  8  is  -2716205.25\n",
      "Score for elite i  15  is  -10441678.0\n",
      "Score for elite i  7  is  -13292705.0\n",
      "Score for elite i  13  is  -38708416.0\n",
      "Score for elite i  3  is  -65954600.0\n",
      "Score for elite i  10  is  -84054432.0\n",
      "Score for elite i  19  is  -56.74203109741211\n",
      "Elite selected with index  19  and score -56.74203109741211\n",
      "\n",
      "\n",
      "Generation  13  | Mean rewards:  -2467506700.0  | Mean of top 5:  -4926211.0\n",
      "Top  20  scores [19 14  3  1  7  8 18  6  9 16 10 11 12 17 13  5  4  0  2 15]\n",
      "Rewards for top:  [-56.497437, -1762.3369, -42892.07, -12206507.0, -12379839.0, -14082504.0, -46251860.0, -49139508.0, -70303520.0, -124577710.0, -180434910.0, -231342110.0, -361003780.0, -520237000.0, -949880700.0, -1215105400.0, -4078352100.0, -4148181000.0, -7009488000.0, -30327126000.0]\n",
      "Score for elite i  19  is  -56.266510009765625\n",
      "Score for elite i  14  is  -1770.912841796875\n",
      "Score for elite i  3  is  -50011.1953125\n",
      "Score for elite i  1  is  -13644910.0\n",
      "Score for elite i  7  is  -13317119.0\n",
      "Score for elite i  8  is  -11737033.0\n",
      "Score for elite i  18  is  -39807968.0\n",
      "Score for elite i  6  is  -46563768.0\n",
      "Score for elite i  9  is  -80973856.0\n",
      "Score for elite i  16  is  -108647704.0\n",
      "Score for elite i  19  is  -56.494468688964844\n",
      "Elite selected with index  19  and score -56.266510009765625\n"
     ]
    },
    {
     "ename": "KeyboardInterrupt",
     "evalue": "",
     "output_type": "error",
     "traceback": [
      "\u001B[0;31m---------------------------------------------------------------------------\u001B[0m",
      "\u001B[0;31mKeyboardInterrupt\u001B[0m                         Traceback (most recent call last)",
      "\u001B[0;32m<ipython-input-35-fec14bc4e396>\u001B[0m in \u001B[0;36m<module>\u001B[0;34m\u001B[0m\n\u001B[1;32m     21\u001B[0m     \u001B[0;31m# return rewards of agents\u001B[0m\u001B[0;34m\u001B[0m\u001B[0;34m\u001B[0m\u001B[0;34m\u001B[0m\u001B[0m\n\u001B[1;32m     22\u001B[0m     \u001B[0;31m# rewards = run_agents_n_times(agents, 1) #return average of 3 runs\u001B[0m\u001B[0;34m\u001B[0m\u001B[0;34m\u001B[0m\u001B[0;34m\u001B[0m\u001B[0m\n\u001B[0;32m---> 23\u001B[0;31m     \u001B[0mrewards\u001B[0m \u001B[0;34m=\u001B[0m \u001B[0mrun_agents\u001B[0m\u001B[0;34m(\u001B[0m\u001B[0magents\u001B[0m\u001B[0;34m)\u001B[0m\u001B[0;34m\u001B[0m\u001B[0;34m\u001B[0m\u001B[0m\n\u001B[0m\u001B[1;32m     24\u001B[0m \u001B[0;34m\u001B[0m\u001B[0m\n\u001B[1;32m     25\u001B[0m     \u001B[0;31m# sort by rewards\u001B[0m\u001B[0;34m\u001B[0m\u001B[0;34m\u001B[0m\u001B[0;34m\u001B[0m\u001B[0m\n",
      "\u001B[0;32m<ipython-input-12-64d2014adc84>\u001B[0m in \u001B[0;36mrun_agents\u001B[0;34m(agents)\u001B[0m\n\u001B[1;32m     11\u001B[0m         \u001B[0meval_loss\u001B[0m \u001B[0;34m=\u001B[0m \u001B[0;34m[\u001B[0m\u001B[0;34m]\u001B[0m\u001B[0;34m\u001B[0m\u001B[0;34m\u001B[0m\u001B[0m\n\u001B[1;32m     12\u001B[0m         \u001B[0;32mwith\u001B[0m \u001B[0mtorch\u001B[0m\u001B[0;34m.\u001B[0m\u001B[0mno_grad\u001B[0m\u001B[0;34m(\u001B[0m\u001B[0;34m)\u001B[0m\u001B[0;34m:\u001B[0m\u001B[0;34m\u001B[0m\u001B[0;34m\u001B[0m\u001B[0m\n\u001B[0;32m---> 13\u001B[0;31m             \u001B[0;32mfor\u001B[0m \u001B[0mind\u001B[0m\u001B[0;34m,\u001B[0m \u001B[0;34m(\u001B[0m\u001B[0mgeometry\u001B[0m\u001B[0;34m,\u001B[0m \u001B[0mspectra\u001B[0m\u001B[0;34m)\u001B[0m \u001B[0;32min\u001B[0m \u001B[0menumerate\u001B[0m\u001B[0;34m(\u001B[0m\u001B[0mtest_loader\u001B[0m\u001B[0;34m)\u001B[0m\u001B[0;34m:\u001B[0m\u001B[0;34m\u001B[0m\u001B[0;34m\u001B[0m\u001B[0m\n\u001B[0m\u001B[1;32m     14\u001B[0m                 \u001B[0;32mif\u001B[0m \u001B[0mcuda\u001B[0m\u001B[0;34m:\u001B[0m\u001B[0;34m\u001B[0m\u001B[0;34m\u001B[0m\u001B[0m\n\u001B[1;32m     15\u001B[0m                     \u001B[0mgeometry\u001B[0m \u001B[0;34m=\u001B[0m \u001B[0mgeometry\u001B[0m\u001B[0;34m.\u001B[0m\u001B[0mcuda\u001B[0m\u001B[0;34m(\u001B[0m\u001B[0;34m)\u001B[0m\u001B[0;34m\u001B[0m\u001B[0;34m\u001B[0m\u001B[0m\n",
      "\u001B[0;32m~/PycharmProjects/mlmOK_Pytorch/FastDataLoader.py\u001B[0m in \u001B[0;36m__iter__\u001B[0;34m(self)\u001B[0m\n\u001B[1;32m     32\u001B[0m         \u001B[0;32mif\u001B[0m \u001B[0mself\u001B[0m\u001B[0;34m.\u001B[0m\u001B[0mshuffle\u001B[0m\u001B[0;34m:\u001B[0m\u001B[0;34m\u001B[0m\u001B[0;34m\u001B[0m\u001B[0m\n\u001B[1;32m     33\u001B[0m             \u001B[0mr\u001B[0m \u001B[0;34m=\u001B[0m \u001B[0mtorch\u001B[0m\u001B[0;34m.\u001B[0m\u001B[0mrandperm\u001B[0m\u001B[0;34m(\u001B[0m\u001B[0mself\u001B[0m\u001B[0;34m.\u001B[0m\u001B[0mdataset_len\u001B[0m\u001B[0;34m)\u001B[0m\u001B[0;34m\u001B[0m\u001B[0;34m\u001B[0m\u001B[0m\n\u001B[0;32m---> 34\u001B[0;31m             \u001B[0mself\u001B[0m\u001B[0;34m.\u001B[0m\u001B[0mtensors\u001B[0m \u001B[0;34m=\u001B[0m \u001B[0;34m[\u001B[0m\u001B[0mt\u001B[0m\u001B[0;34m[\u001B[0m\u001B[0mr\u001B[0m\u001B[0;34m]\u001B[0m \u001B[0;32mfor\u001B[0m \u001B[0mt\u001B[0m \u001B[0;32min\u001B[0m \u001B[0mself\u001B[0m\u001B[0;34m.\u001B[0m\u001B[0mtensors\u001B[0m\u001B[0;34m]\u001B[0m\u001B[0;34m\u001B[0m\u001B[0;34m\u001B[0m\u001B[0m\n\u001B[0m\u001B[1;32m     35\u001B[0m         \u001B[0mself\u001B[0m\u001B[0;34m.\u001B[0m\u001B[0mi\u001B[0m \u001B[0;34m=\u001B[0m \u001B[0;36m0\u001B[0m\u001B[0;34m\u001B[0m\u001B[0;34m\u001B[0m\u001B[0m\n\u001B[1;32m     36\u001B[0m         \u001B[0;32mreturn\u001B[0m \u001B[0mself\u001B[0m\u001B[0;34m\u001B[0m\u001B[0;34m\u001B[0m\u001B[0m\n",
      "\u001B[0;32m~/PycharmProjects/mlmOK_Pytorch/FastDataLoader.py\u001B[0m in \u001B[0;36m<listcomp>\u001B[0;34m(.0)\u001B[0m\n\u001B[1;32m     32\u001B[0m         \u001B[0;32mif\u001B[0m \u001B[0mself\u001B[0m\u001B[0;34m.\u001B[0m\u001B[0mshuffle\u001B[0m\u001B[0;34m:\u001B[0m\u001B[0;34m\u001B[0m\u001B[0;34m\u001B[0m\u001B[0m\n\u001B[1;32m     33\u001B[0m             \u001B[0mr\u001B[0m \u001B[0;34m=\u001B[0m \u001B[0mtorch\u001B[0m\u001B[0;34m.\u001B[0m\u001B[0mrandperm\u001B[0m\u001B[0;34m(\u001B[0m\u001B[0mself\u001B[0m\u001B[0;34m.\u001B[0m\u001B[0mdataset_len\u001B[0m\u001B[0;34m)\u001B[0m\u001B[0;34m\u001B[0m\u001B[0;34m\u001B[0m\u001B[0m\n\u001B[0;32m---> 34\u001B[0;31m             \u001B[0mself\u001B[0m\u001B[0;34m.\u001B[0m\u001B[0mtensors\u001B[0m \u001B[0;34m=\u001B[0m \u001B[0;34m[\u001B[0m\u001B[0mt\u001B[0m\u001B[0;34m[\u001B[0m\u001B[0mr\u001B[0m\u001B[0;34m]\u001B[0m \u001B[0;32mfor\u001B[0m \u001B[0mt\u001B[0m \u001B[0;32min\u001B[0m \u001B[0mself\u001B[0m\u001B[0;34m.\u001B[0m\u001B[0mtensors\u001B[0m\u001B[0;34m]\u001B[0m\u001B[0;34m\u001B[0m\u001B[0;34m\u001B[0m\u001B[0m\n\u001B[0m\u001B[1;32m     35\u001B[0m         \u001B[0mself\u001B[0m\u001B[0;34m.\u001B[0m\u001B[0mi\u001B[0m \u001B[0;34m=\u001B[0m \u001B[0;36m0\u001B[0m\u001B[0;34m\u001B[0m\u001B[0;34m\u001B[0m\u001B[0m\n\u001B[1;32m     36\u001B[0m         \u001B[0;32mreturn\u001B[0m \u001B[0mself\u001B[0m\u001B[0;34m\u001B[0m\u001B[0;34m\u001B[0m\u001B[0m\n",
      "\u001B[0;31mKeyboardInterrupt\u001B[0m: "
     ]
    }
   ],
   "source": [
    "# game_actions = 2 #2 actions possible: left or right\n",
    "\n",
    "#disable gradients as we will not use them\n",
    "torch.set_grad_enabled(False)\n",
    "\n",
    "# initialize N number of agents\n",
    "num_agents = 20\n",
    "agents = return_random_agents(num_agents)\n",
    "\n",
    "# How many top agents to consider as parents\n",
    "top_limit = 20\n",
    "\n",
    "# run evolution until X generations\n",
    "generations = 1000\n",
    "\n",
    "elite_index = None\n",
    "\n",
    "for generation in range(generations):\n",
    "\n",
    "    test_loader = reload_data(ftrTest,lblTest)\n",
    "    # return rewards of agents\n",
    "    # rewards = run_agents_n_times(agents, 1) #return average of 3 runs\n",
    "    rewards = run_agents(agents)\n",
    "\n",
    "    # sort by rewards\n",
    "    sorted_parent_indexes = np.argsort(rewards)[::-1][:top_limit] #reverses and gives top values (argsort sorts by ascending by default) https://stackoverflow.com/questions/16486252/is-it-possible-to-use-argsort-in-descending-order\n",
    "    print(\"\")\n",
    "    print(\"\")\n",
    "\n",
    "    top_rewards = []\n",
    "    for best_parent in sorted_parent_indexes:\n",
    "        top_rewards.append(rewards[best_parent])\n",
    "\n",
    "    print(\"Generation \", generation, \" | Mean rewards: \", np.mean(rewards), \" | Mean of top 5: \",np.mean(top_rewards[:5]))\n",
    "    #print(rewards)\n",
    "    print(\"Top \",top_limit,\" scores\", sorted_parent_indexes)\n",
    "    print(\"Rewards for top: \",top_rewards)\n",
    "\n",
    "    # setup an empty list for containing children agents\n",
    "    children_agents, elite_index = return_children(agents, sorted_parent_indexes, elite_index)\n",
    "\n",
    "    # kill all agents, and replace them with their children\n",
    "    agents = children_agents\n"
   ],
   "metadata": {
    "collapsed": false,
    "pycharm": {
     "name": "#%%\n"
    }
   }
  },
  {
   "cell_type": "code",
   "execution_count": null,
   "outputs": [],
   "source": [],
   "metadata": {
    "collapsed": false,
    "pycharm": {
     "name": "#%%#%%\n"
    }
   }
  },
  {
   "cell_type": "code",
   "execution_count": 19,
   "outputs": [],
   "source": [],
   "metadata": {
    "collapsed": false,
    "pycharm": {
     "name": "#%%#%%"
    }
   }
  }
 ],
 "metadata": {
  "kernelspec": {
   "name": "python3",
   "language": "python",
   "display_name": "Python 3"
  },
  "language_info": {
   "codemirror_mode": {
    "name": "ipython",
    "version": 2
   },
   "file_extension": ".py",
   "mimetype": "text/x-python",
   "name": "python",
   "nbconvert_exporter": "python",
   "pygments_lexer": "ipython2",
   "version": "2.7.6"
  }
 },
 "nbformat": 4,
 "nbformat_minor": 0
}